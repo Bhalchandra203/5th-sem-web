{
 "cells": [
  {
   "cell_type": "code",
   "execution_count": null,
   "id": "02d049d7-a702-4c6e-9f42-3b90299785f5",
   "metadata": {},
   "outputs": [],
   "source": [
    "#Q.2 A) Generate a random array of 50 integers and display them using a line chart, scatter plot,histogram and box plot. Apply appropriate color, labels and styling options\n",
    "import numpy as np \n",
    "import matplotlib.pyplot as plt \n",
    "x  = np.random.randint(1,50,100)\n",
    "y = 2*x\n",
    "\n",
    "plt.title(\"Line Plot\")\n",
    "plt.xlabel(\"X-Axis\")\n",
    "plt.ylabel(\"Y-Axis\")\n",
    "plt.plot(x,y)\n",
    "plt.show()\n",
    "\n",
    "plt.title(\"Scatter plot\")\n",
    "plt.xlabel(\"X-Axis\")\n",
    "plt.ylabel(\"Y-Axis\")\n",
    "plt.scatter(x,x)\n",
    "plt.show()\n",
    "\n",
    "plt.title(\"Histogram\")\n",
    "plt.xlabel(\"X-Axis\")\n",
    "plt.ylabel(\"Y-Axis\")\n",
    "plt.hist(x)\n",
    "plt.show()\n",
    "\n",
    "plt.title(\"Box Plot\")\n",
    "plt.xlabel(\"X-Axis\")\n",
    "plt.ylabel(\"Y-Axis\")\n",
    "plt.boxplot(x)\n",
    "plt.show()"
   ]
  },
  {
   "cell_type": "code",
   "execution_count": null,
   "id": "cd14316d-34d3-4360-a6fd-a5f45401a685",
   "metadata": {},
   "outputs": [],
   "source": [
    "#Q.2 B) Write a Python program to create data frame containing column name, salary, department add 10 rows with some missing and duplicate values to the data frame. Also drop all null and empty values. Print the modified data frame.\n",
    "import pandas as pd \n",
    "data = {\n",
    "    'name' : [\"Harish\" ,  \"Rakesh\" , \"Harish\" ,\"Rakesh\" ,\"Rohit\" ,\"Manas\" ,\"Pankaj\" , \"Partik\",\"Rupesh\" , \"Harish\"],\n",
    "    'salary' :[123,456,123 , 456,None,None,3456,None,9012  , 123],\n",
    "     'department':[\"CSE\" , \"CS\",\"CSE\", \"CS\",\"EE\" , None,None,\"Com\" ,\"CSE\",\"CSE\"]\n",
    "}\n",
    "\n",
    "df  = pd.DataFrame.from_dict(data)\n",
    "\n",
    "print(df)\n",
    "\n",
    "df.drop_duplicates(inplace=True)\n",
    "\n",
    "print(\"\\nAfter removing duplicates records\\n\")\n",
    "print(df)\n",
    "\n",
    "df.dropna(inplace=True)\n",
    "print(\"\\nAfter removing empty value records\\n\")\n",
    "print(df)"
   ]
  }
 ],
 "metadata": {
  "kernelspec": {
   "display_name": "Python 3 (ipykernel)",
   "language": "python",
   "name": "python3"
  },
  "language_info": {
   "codemirror_mode": {
    "name": "ipython",
    "version": 3
   },
   "file_extension": ".py",
   "mimetype": "text/x-python",
   "name": "python",
   "nbconvert_exporter": "python",
   "pygments_lexer": "ipython3",
   "version": "3.12.0"
  }
 },
 "nbformat": 4,
 "nbformat_minor": 5
}
