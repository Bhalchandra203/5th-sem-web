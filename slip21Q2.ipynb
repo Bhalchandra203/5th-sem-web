{
 "cells": [
  {
   "cell_type": "code",
   "execution_count": null,
   "id": "13b09c0a-91cb-4da5-91a2-2b6c8844f6c7",
   "metadata": {},
   "outputs": [],
   "source": [
    "#Q.2 A) Import dataset “iris.csv”. Write a Python program to create a Bar plot to get the frequency of the three species of the Iris data.\n",
    "\n",
    "import pandas as pd \n",
    "import seaborn as sns\n",
    "import matplotlib.pyplot as plt\n",
    "\n",
    "df  = pd.read_csv(\"./Iris.csv\")\n",
    "sns.countplot(x = df['Species'])\n",
    "plt.title('Frequency of Three Species')\n"
   ]
  },
  {
   "cell_type": "code",
   "execution_count": null,
   "id": "4e76b85f-cd5d-4906-a0fd-3569e1c8ea33",
   "metadata": {},
   "outputs": [],
   "source": [
    "#Q.2 B)Write a Python program to create a histogram of the three species of the Iris data.\n",
    "\n",
    "plt.hist(x=df['Species'])"
   ]
  }
 ],
 "metadata": {
  "kernelspec": {
   "display_name": "Python 3 (ipykernel)",
   "language": "python",
   "name": "python3"
  },
  "language_info": {
   "codemirror_mode": {
    "name": "ipython",
    "version": 3
   },
   "file_extension": ".py",
   "mimetype": "text/x-python",
   "name": "python",
   "nbconvert_exporter": "python",
   "pygments_lexer": "ipython3",
   "version": "3.12.0"
  }
 },
 "nbformat": 4,
 "nbformat_minor": 5
}
