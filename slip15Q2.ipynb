{
 "cells": [
  {
   "cell_type": "code",
   "execution_count": null,
   "id": "5fbb233d-97a2-4cd9-88af-ee11834b22d7",
   "metadata": {},
   "outputs": [],
   "source": [
    "#Q.2 A) Generate a random array of 50 integers and display them using a line chart, scatter plot, histogram and box plot. Apply appropriate color, labels and styling options.\n",
    "\n",
    "import numpy as np \n",
    "import matplotlib.pyplot as plt\n",
    "x = np.random.randint(1,50,100)\n",
    "y = x*2\n",
    "\n",
    "fig , ax = plt.subplots(2,2)\n",
    "fig.set_figheight(9)\n",
    "fig.set_figwidth(7)\n",
    "\n",
    "ax[0,0].set_title(\"Line Chart\")\n",
    "ax[0,0].plot(x , y)\n",
    "\n",
    "ax[0,1].set_title(\"Scatter Plot\")\n",
    "ax[0,1].scatter(x , y)\n",
    "\n",
    "ax[1,1].set_title(\"Histogram\")\n",
    "ax[1,1].hist(x)\n",
    "\n",
    "ax[1,0].set_title(\"Box plot\")\n",
    "\n",
    "ax[1,0].boxplot(x)"
   ]
  },
  {
   "cell_type": "code",
   "execution_count": null,
   "id": "f99084fc-3075-4b23-a08b-afde6f63c75d",
   "metadata": {},
   "outputs": [],
   "source": [
    "#Q.2 B) Create two lists, one representing subject names and the other representing marks obtained in those subjects. Display the data in a pie chart.\n",
    "\n",
    "import matplotlib.pyplot as plt\n",
    "subject = ['OS' , 'Java' ,'Python','Web' ,'FDS']\n",
    "marks = [90,34,56,34,89]\n",
    "\n",
    "plt.pie(marks , labels=subject,autopct=\"%1.1f%%\" )\n",
    "plt.show()"
   ]
  }
 ],
 "metadata": {
  "kernelspec": {
   "display_name": "Python 3 (ipykernel)",
   "language": "python",
   "name": "python3"
  },
  "language_info": {
   "codemirror_mode": {
    "name": "ipython",
    "version": 3
   },
   "file_extension": ".py",
   "mimetype": "text/x-python",
   "name": "python",
   "nbconvert_exporter": "python",
   "pygments_lexer": "ipython3",
   "version": "3.12.0"
  }
 },
 "nbformat": 4,
 "nbformat_minor": 5
}
