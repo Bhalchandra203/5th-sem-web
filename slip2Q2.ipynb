{
 "cells": [
  {
   "cell_type": "code",
   "execution_count": null,
   "id": "246581e4-f920-4bca-9129-eedecd6be9c9",
   "metadata": {},
   "outputs": [],
   "source": [
    "#Q.2 A) Write a Python program for Handling Missing Value. Replace missing value of salary, age column with mean of that column.(Use Data.csv file)\n",
    "\n",
    "import pandas as pd \n",
    "import matplotlib.pyplot as plt\n",
    "df  = pd.read_csv(\"data.csv\")\n",
    "df.head()\n",
    "\n",
    "df['Salary'].fillna(df['Salary'].mean() , inplace=True)\n",
    "\n",
    "df.head()"
   ]
  },
  {
   "cell_type": "code",
   "execution_count": null,
   "id": "433e8560-cbe5-4d47-b223-61df1e373e3b",
   "metadata": {},
   "outputs": [],
   "source": [
    "# Q.2 B) Write a Python program to generate a line plot of name Vs salary\n",
    "plt.plot(df['Employee'] , df['Salary'])\n",
    "plt.show()\n"
   ]
  },
  {
   "cell_type": "code",
   "execution_count": 13,
   "id": "349b3be1-b116-48d7-a068-d16560a4b441",
   "metadata": {},
   "outputs": [
    {
     "name": "stdout",
     "output_type": "stream",
     "text": [
      "   Index    Height    Weight\n",
      "0      1  65.78331  112.9925\n",
      "1      2  71.51521  136.4873\n",
      "2      3  69.39874  153.0269\n",
      "3      4  68.21660  142.3354\n",
      "4      5  67.78781  144.2971\n",
      "5      6  68.69784  123.3024\n",
      "6      7  69.80204  141.4947\n",
      "7      8  70.01472  136.4623\n",
      "8      9  67.90265  112.3723\n",
      "9     10  66.78236  120.6672\n",
      "       Index    Height    Weight\n",
      "22695  22696  72.38993  135.6520\n",
      "4440    4441  69.30260  132.8961\n",
      "20970  20971  68.16770  130.5834\n",
      "17407  17408  67.28425  125.0764\n",
      "20045  20046  69.03162  142.6512\n",
      "18910  18911  69.81700  132.1167\n",
      "11753  11754  70.38460  166.7687\n",
      "17287  17288  70.47505  147.7924\n",
      "18902  18903  66.32189  135.3703\n",
      "23649  23650  66.52827  123.3633\n",
      "12795  12796  71.06812  136.7636\n",
      "442      443  71.23670  126.5545\n",
      "19001  19002  67.45968  135.2663\n",
      "24533  24534  68.44835  110.7671\n",
      "15683  15684  69.31688  138.3508\n",
      "2119    2120  68.32860  141.6323\n",
      "777      778  66.90106  132.9048\n",
      "22565  22566  71.92456  140.8061\n",
      "10868  10869  67.77960  135.9830\n",
      "898      899  64.41354  123.0554\n",
      "(25000, 3)\n"
     ]
    }
   ],
   "source": [
    "#Q.2 C) Download the heights and weights dataset and load the dataset froma given csv file into a dataframe. Print the first, last 10 rows and random 20 rows also display shape of the dataset.\n",
    "import pandas as pd;\n",
    "import random\n",
    "\n",
    "df = pd.read_csv(\"HeightWeight.csv\")\n",
    "\n",
    "print(df.head(10))\n",
    "\n",
    "print(df.sample(20))\n",
    "\n",
    "print(df.shape)"
   ]
  },
  {
   "cell_type": "code",
   "execution_count": null,
   "id": "45df50fe-baaf-4a4a-9898-583fd4356d95",
   "metadata": {},
   "outputs": [],
   "source": []
  }
 ],
 "metadata": {
  "kernelspec": {
   "display_name": "Python 3 (ipykernel)",
   "language": "python",
   "name": "python3"
  },
  "language_info": {
   "codemirror_mode": {
    "name": "ipython",
    "version": 3
   },
   "file_extension": ".py",
   "mimetype": "text/x-python",
   "name": "python",
   "nbconvert_exporter": "python",
   "pygments_lexer": "ipython3",
   "version": "3.12.0"
  }
 },
 "nbformat": 4,
 "nbformat_minor": 5
}
