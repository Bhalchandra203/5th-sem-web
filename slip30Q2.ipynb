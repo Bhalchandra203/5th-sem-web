{
 "cells": [
  {
   "cell_type": "code",
   "execution_count": null,
   "id": "20d6dd77-82d4-48a1-9f3c-4be8cc678f8e",
   "metadata": {},
   "outputs": [],
   "source": [
    "#Q.2 A) Generate a random array of 50 integers and display them using a line chart, scatter plot, histogram and box plot. Apply appropriate color, labels and styling options\n",
    "\n",
    "import numpy as np \n",
    "import matplotlib.pyplot as plt \n",
    "\n",
    "x  = np.random.randint(1,50,100)\n",
    "y  = np.random.randint(1,50,100)\n",
    "\n",
    "plt.plot(x,y)\n",
    "plt.show()\n",
    "\n",
    "plt.scatter(x,y)\n",
    "plt.show()\n",
    "\n",
    "plt.hist(x)\n",
    "plt.show()\n",
    "\n",
    "plt.boxplot(x)\n",
    "plt.show()\n",
    "\n"
   ]
  },
  {
   "cell_type": "code",
   "execution_count": null,
   "id": "5a07d5a8-48af-4468-9ee4-5731dcffb76c",
   "metadata": {},
   "outputs": [],
   "source": [
    "#2.Create two lists, one representing subject names and the other representing marks obtained in those subjects. Display the data in bar chart.\n",
    "\n",
    "import matplotlib.pyplot as plt \n",
    "subject = [\"OS\" ,\"C\",\"Java\",\"Python\",\"HTML/CSS\"]\n",
    "marks = [80,90,95,90,85]\n",
    "\n",
    "plt.bar(subject , marks)\n",
    "plt.show()"
   ]
  }
 ],
 "metadata": {
  "kernelspec": {
   "display_name": "Python 3 (ipykernel)",
   "language": "python",
   "name": "python3"
  },
  "language_info": {
   "codemirror_mode": {
    "name": "ipython",
    "version": 3
   },
   "file_extension": ".py",
   "mimetype": "text/x-python",
   "name": "python",
   "nbconvert_exporter": "python",
   "pygments_lexer": "ipython3",
   "version": "3.12.0"
  }
 },
 "nbformat": 4,
 "nbformat_minor": 5
}
