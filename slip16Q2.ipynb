{
 "cells": [
  {
   "cell_type": "code",
   "execution_count": null,
   "id": "d9b9105a-e4bc-440a-ab90-b830ffd88d04",
   "metadata": {},
   "outputs": [],
   "source": [
    "#Q.2 A) Write a python program to create two lists, one representing subject names and the other representing marks obtained in those subjects. Display the data in a pie chart and bar chart.\n",
    "\n",
    "import matplotlib.pyplot as plt\n",
    "subject = ['OS' , 'Java' ,'Python','Web' ,'FDS']\n",
    "marks = [90,34,56,34,89]\n",
    "\n",
    "plt.pie(marks , labels=subject,autopct=\"%1.1f%%\" )\n",
    "plt.show()\n",
    "\n",
    "\n",
    "plt.bar(subject,marks )\n",
    "plt.show()"
   ]
  },
  {
   "cell_type": "code",
   "execution_count": null,
   "id": "58c01065-2594-4006-9653-70263ffc724e",
   "metadata": {},
   "outputs": [],
   "source": [
    "#Q.2 B) Write a python program to create a data frame for students’ information such as name, graduation percentage and age. Display average age of students, average of graduation percentage.\n",
    "\n",
    "import pandas as pd \n",
    "df = pd.read_csv(\"student.csv\")\n",
    "\n",
    "print(\"Average age of students :\" ,df['age'].mean())\n",
    "print(\"Average percentage of students :\" ,df['percentage'].mean())"
   ]
  }
 ],
 "metadata": {
  "kernelspec": {
   "display_name": "Python 3 (ipykernel)",
   "language": "python",
   "name": "python3"
  },
  "language_info": {
   "codemirror_mode": {
    "name": "ipython",
    "version": 3
   },
   "file_extension": ".py",
   "mimetype": "text/x-python",
   "name": "python",
   "nbconvert_exporter": "python",
   "pygments_lexer": "ipython3",
   "version": "3.12.0"
  }
 },
 "nbformat": 4,
 "nbformat_minor": 5
}
