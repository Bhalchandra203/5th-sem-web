{
 "cells": [
  {
   "cell_type": "code",
   "execution_count": 1,
   "id": "26c30887-1e8e-4058-b153-ae88f7febb5e",
   "metadata": {},
   "outputs": [
    {
     "name": "stdout",
     "output_type": "stream",
     "text": [
      "Mean of Index column  12500.5\n",
      "Mean of Height column  67.99311359679999\n",
      "Mean of Weight column  127.07942116080001\n"
     ]
    }
   ],
   "source": [
    "#Q.2 A) Write a python program to Display column-wise mean, and median for SOCRHeightWeight dataset.\n",
    "import pandas as pd \n",
    "\n",
    "df = pd.read_csv(\"HeightWeight.csv\")\n",
    "\n",
    "\n",
    "print(\"Mean of Index column \" , df['Index'].mean())\n",
    "print(\"Mean of Height column \" , df['Height'].mean())\n",
    "print(\"Mean of Weight column \" , df['Weight'].mean())"
   ]
  },
  {
   "cell_type": "code",
   "execution_count": null,
   "id": "2002ed79-0190-45f9-8ef7-0ffbc3deaf43",
   "metadata": {},
   "outputs": [],
   "source": [
    "#Q.2 B) Write a python program to compute sum of Manhattan distance between all pairs of points\n",
    "x = [1,2,3,4,5]\n",
    "y = [4,5,1,6,7]\n",
    "\n",
    "sum =0\n",
    "for x1,y1 in zip(x,y):\n",
    "    sum+= abs(x1-y1) \n",
    "\n",
    "print(\"Manhattan distance is :\" ,sum)"
   ]
  },
  {
   "cell_type": "code",
   "execution_count": null,
   "id": "31508ab4-6bc2-4b5a-b977-87649f9be154",
   "metadata": {},
   "outputs": [],
   "source": [
    "from scipy.spatial.distance import cityblock\n",
    "print(cityblock(x, y))"
   ]
  },
  {
   "cell_type": "code",
   "execution_count": null,
   "id": "f523f35d-6bbe-4da9-8dfc-82bda35ec3ef",
   "metadata": {},
   "outputs": [],
   "source": [
    "def manhattan_distance(point1, point2):\n",
    "    distance = 0\n",
    "    for x1, x2 in zip(point1, point2):\n",
    "        difference = x2 - x1\n",
    "        absolute_difference = abs(difference)\n",
    "        distance += absolute_difference\n",
    "\n",
    "    return distance\n",
    "\n",
    "x = [1,2,3,4,5]\n",
    "y = [4,5,1,6,7]\n",
    "\n",
    "print(manhattan_distance(x,y))"
   ]
  },
  {
   "cell_type": "code",
   "execution_count": null,
   "id": "3f2c05fa-4e37-43bc-b24a-abf5dd74da23",
   "metadata": {},
   "outputs": [],
   "source": [
    "def distancesum (x, y, n):\n",
    "    sum = 0\n",
    "     \n",
    "    for i in range(n):\n",
    "        for j in range(i+1,n):\n",
    "            sum += (abs(x[i] - x[j]) +\n",
    "                        abs(y[i] - y[j]))\n",
    "     \n",
    "    return sum\n",
    " \n",
    "x = [1,2,3,4,5]\n",
    "y = [4,5,1,6,7]\n",
    "\n",
    "n = len(x)\n",
    "print(distancesum(x, y, n) )"
   ]
  }
 ],
 "metadata": {
  "kernelspec": {
   "display_name": "Python 3 (ipykernel)",
   "language": "python",
   "name": "python3"
  },
  "language_info": {
   "codemirror_mode": {
    "name": "ipython",
    "version": 3
   },
   "file_extension": ".py",
   "mimetype": "text/x-python",
   "name": "python",
   "nbconvert_exporter": "python",
   "pygments_lexer": "ipython3",
   "version": "3.12.0"
  }
 },
 "nbformat": 4,
 "nbformat_minor": 5
}
