{
 "cells": [
  {
   "cell_type": "code",
   "execution_count": null,
   "id": "d791d457-8d95-45a9-b897-32d1b71ddb18",
   "metadata": {},
   "outputs": [],
   "source": [
    "#Q.2 A) Write a Python program to draw scatter plots to compare two features of the iris dataset\n",
    "\n",
    "import pandas as pd \n",
    "df = pd.read_csv(\"./iris.csv\")\n",
    "df.plot(kind=\"scatter\" , x=\"SepalLengthCm\" , y=\"PetalLengthCm\")"
   ]
  },
  {
   "cell_type": "code",
   "execution_count": null,
   "id": "5e3a771b-981a-408c-ace9-05cef7bb1eda",
   "metadata": {},
   "outputs": [],
   "source": [
    "#Q.2 B) Write a Python program to create a data frame containing columns name, age , salary, department . Add 10 rows to the data frame. View the data frame.\n",
    "\n",
    "import pandas as pd \n",
    "df = pd.read_csv(\"./employee.csv\")\n",
    "\n",
    "df.head(10)"
   ]
  }
 ],
 "metadata": {
  "kernelspec": {
   "display_name": "Python 3 (ipykernel)",
   "language": "python",
   "name": "python3"
  },
  "language_info": {
   "codemirror_mode": {
    "name": "ipython",
    "version": 3
   },
   "file_extension": ".py",
   "mimetype": "text/x-python",
   "name": "python",
   "nbconvert_exporter": "python",
   "pygments_lexer": "ipython3",
   "version": "3.12.0"
  }
 },
 "nbformat": 4,
 "nbformat_minor": 5
}
