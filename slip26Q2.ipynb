{
 "cells": [
  {
   "cell_type": "code",
   "execution_count": null,
   "id": "bd72de0e-0b11-4483-8ba1-1b8a9c9d7cfb",
   "metadata": {},
   "outputs": [],
   "source": [
    "#Q.2 A) Generate a random array of 50 integers and display them using a line chart, scatter plot, histogram and box plot. Apply appropriate color, labels and styling options\n",
    "\n",
    "import numpy as np \n",
    "import matplotlib.pyplot as plt \n",
    "\n",
    "x  = np.random.randint(1,50,100)\n",
    "y  = np.random.randint(1,50,100)\n",
    "\n",
    "plt.plot(x,y)\n",
    "plt.show()\n",
    "\n",
    "plt.scatter(x,y)\n",
    "plt.show()\n",
    "\n",
    "plt.hist(x)\n",
    "plt.show()\n",
    "\n",
    "plt.boxplot(x)\n",
    "plt.show()"
   ]
  },
  {
   "cell_type": "code",
   "execution_count": null,
   "id": "d0819ddd-6eba-4e9c-8481-a3b0165ba6f8",
   "metadata": {},
   "outputs": [],
   "source": [
    "#2.Create two lists, one representing subject names and the other representing marks obtained in those subjects. Display the data in bar chart.\n",
    "\n",
    "import matplotlib.pyplot as plt \n",
    "subject = [\"OS\" ,\"C\",\"Java\",\"Python\",\"HTML/CSS\"]\n",
    "marks = [80,90,95,90,85]\n",
    "\n",
    "plt.bar(subject , marks)\n",
    "plt.show()"
   ]
  }
 ],
 "metadata": {
  "kernelspec": {
   "display_name": "Python 3 (ipykernel)",
   "language": "python",
   "name": "python3"
  },
  "language_info": {
   "codemirror_mode": {
    "name": "ipython",
    "version": 3
   },
   "file_extension": ".py",
   "mimetype": "text/x-python",
   "name": "python",
   "nbconvert_exporter": "python",
   "pygments_lexer": "ipython3",
   "version": "3.12.0"
  }
 },
 "nbformat": 4,
 "nbformat_minor": 5
}
