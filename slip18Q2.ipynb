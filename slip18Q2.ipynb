{
 "cells": [
  {
   "cell_type": "code",
   "execution_count": null,
   "id": "be5d1784-5936-40c7-ab13-8ab473b1fa35",
   "metadata": {},
   "outputs": [],
   "source": [
    "#Q.2 A) Write a Python program to create box plots to see how each feature i.e. Sepal Length,Sepal Width, Petal Length, Petal Width are distributed across the three species. (Use iris.csv dataset)\n",
    "\n",
    "import pandas as pd\n",
    "import matplotlib.pyplot as plt\n",
    "import seaborn as sns \n",
    "\n",
    "df = pd.read_csv(\"./Iris.csv\")\n",
    "\n",
    "sns.boxplot(x=\"Species\" , y=\"PetalLengthCm\" , data=df)"
   ]
  },
  {
   "cell_type": "code",
   "execution_count": null,
   "id": "5ee86485-984b-4473-a406-f7dbb1dcb404",
   "metadata": {},
   "outputs": [],
   "source": [
    "sns.boxplot(x=\"Species\" , y = \"SepalWidthCm\" , data=df)"
   ]
  },
  {
   "cell_type": "code",
   "execution_count": null,
   "id": "09dbdf9f-3797-4f4f-9174-af4a9ce03d83",
   "metadata": {},
   "outputs": [],
   "source": [
    "sns.boxplot(x=\"Species\" , y=\"SepalLengthCm\" , data=df)"
   ]
  },
  {
   "cell_type": "code",
   "execution_count": null,
   "id": "895cdf5d-e389-437f-8fa3-3c0cd5debcb1",
   "metadata": {},
   "outputs": [],
   "source": [
    "sns.boxplot(x=\"Species\" , y=\"PetalWidthCm\" , data=df)"
   ]
  },
  {
   "cell_type": "code",
   "execution_count": null,
   "id": "55cebf4e-0e35-49ce-a00f-68d54f458628",
   "metadata": {},
   "outputs": [],
   "source": [
    "#Q.2 B) Use the heights and weights dataset and load the dataset from a given csv file into a dataframe. Print the first, last 5 rows and random 10 row\n",
    "\n",
    "df = pd.read_csv(\"./HeightWeight.csv\")\n",
    "\n",
    "df.head(10)\n",
    "\n",
    "df.sample(10)\n",
    "\n",
    "df.tail(5)"
   ]
  }
 ],
 "metadata": {
  "kernelspec": {
   "display_name": "Python 3 (ipykernel)",
   "language": "python",
   "name": "python3"
  },
  "language_info": {
   "codemirror_mode": {
    "name": "ipython",
    "version": 3
   },
   "file_extension": ".py",
   "mimetype": "text/x-python",
   "name": "python",
   "nbconvert_exporter": "python",
   "pygments_lexer": "ipython3",
   "version": "3.12.0"
  }
 },
 "nbformat": 4,
 "nbformat_minor": 5
}
