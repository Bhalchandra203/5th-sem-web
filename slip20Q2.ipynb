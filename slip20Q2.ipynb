{
 "cells": [
  {
   "cell_type": "code",
   "execution_count": null,
   "id": "f083acd2-d2d9-4b4c-b1ac-5f2980213eb2",
   "metadata": {},
   "outputs": [],
   "source": [
    "#Q.2 A) Generate a random array of 50 integers and display them using a line chart, scatter plot, histogram and box plot. Apply appropriate color, labels and styling options.\n",
    "\n",
    "import matplotlib.pyplot as plt \n",
    "import numpy as np \n",
    "\n",
    "x = np.random.randint(1,50,100)\n",
    "y = np.random.randint(1,50,100)\n",
    "\n",
    "plt.plot(x,y)\n",
    "plt.show()\n",
    "\n",
    "plt.scatter(x,y)\n",
    "plt.show()\n",
    "\n",
    "plt.hist(x)\n",
    "plt.show()\n",
    "\n",
    "plt.boxplot(x)\n",
    "plt.show()"
   ]
  },
  {
   "cell_type": "code",
   "execution_count": null,
   "id": "72494198-d400-4765-b9a0-ba3ba6db5d91",
   "metadata": {},
   "outputs": [],
   "source": [
    "#Q.2 B) Add two outliers to the above data and display the box plot.\n",
    "\n",
    "x = list(x)\n",
    "x.append(70)\n",
    "x.append(-100)\n",
    "plt.boxplot(x)\n",
    "plt.show()"
   ]
  }
 ],
 "metadata": {
  "kernelspec": {
   "display_name": "Python 3 (ipykernel)",
   "language": "python",
   "name": "python3"
  },
  "language_info": {
   "codemirror_mode": {
    "name": "ipython",
    "version": 3
   },
   "file_extension": ".py",
   "mimetype": "text/x-python",
   "name": "python",
   "nbconvert_exporter": "python",
   "pygments_lexer": "ipython3",
   "version": "3.12.0"
  }
 },
 "nbformat": 4,
 "nbformat_minor": 5
}
