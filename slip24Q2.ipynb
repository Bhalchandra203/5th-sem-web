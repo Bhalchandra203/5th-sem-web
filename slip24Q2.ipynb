{
 "cells": [
  {
   "cell_type": "code",
   "execution_count": null,
   "id": "e69a05ee-fe0f-4153-8df1-10c208ca1d06",
   "metadata": {},
   "outputs": [],
   "source": [
    "#Q.2 A) Import dataset “iris.csv”. Write a Python program to create a Bar plot to get the frequency of the three species of the Iris data\n",
    "\n",
    "import pandas as pd \n",
    "import seaborn as sns\n",
    "\n",
    "df  = pd.read_csv(\"./Iris.csv\")\n",
    "sns.countplot(x = df['Species'])"
   ]
  },
  {
   "cell_type": "code",
   "execution_count": null,
   "id": "948019c1-eb57-4cbe-bbf3-0aa2c9b6bb61",
   "metadata": {},
   "outputs": [],
   "source": [
    "import matplotlib.pyplot as plt \n",
    "plt.hist(x=df['Species'])\n",
    "plt.show()"
   ]
  }
 ],
 "metadata": {
  "kernelspec": {
   "display_name": "Python 3 (ipykernel)",
   "language": "python",
   "name": "python3"
  },
  "language_info": {
   "codemirror_mode": {
    "name": "ipython",
    "version": 3
   },
   "file_extension": ".py",
   "mimetype": "text/x-python",
   "name": "python",
   "nbconvert_exporter": "python",
   "pygments_lexer": "ipython3",
   "version": "3.12.0"
  }
 },
 "nbformat": 4,
 "nbformat_minor": 5
}
