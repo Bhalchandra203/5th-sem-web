{
 "cells": [
  {
   "cell_type": "code",
   "execution_count": null,
   "id": "4c4c502e-dc6a-4285-bfdd-cb742f762387",
   "metadata": {},
   "outputs": [],
   "source": [
    "#1. To create a dataframe containing columns name, age and percentage. Add 10 rows to the dataframe. View the dataframe.\n",
    "\n",
    "import pandas as pd \n",
    "df = pd.read_csv(\"./student.csv\")\n",
    "df"
   ]
  },
  {
   "cell_type": "code",
   "execution_count": null,
   "id": "dc3c9b71-34ad-4ac0-8394-4e12ee795553",
   "metadata": {},
   "outputs": [],
   "source": [
    "#2. To print the shape, number of rows-columns, data types, feature names and the description of the data\n",
    "\n",
    "print(\"Shape of data frame :\" , df.shape)\n",
    "\n",
    "print(\"No of columns \" , len(df.columns))\n",
    "print(\"No of Rows \" , len(df.axes[0]))\n",
    "\n",
    "print(\"Data type of Data frame :\"  , type(df))\n",
    "\n",
    "df.describe()"
   ]
  },
  {
   "cell_type": "code",
   "execution_count": null,
   "id": "a57eb4fb-a754-4229-adbf-58ca8dc4db71",
   "metadata": {},
   "outputs": [],
   "source": [
    "#3. To Add 5 rows with duplicate values and missing values. Add a column ‘remarks’ with empty values. Display the data\n",
    "\n",
    "df.loc[12] = ['Sai' , 97 , 15]\n",
    "df.loc[13] = ['Sai' , 97 , 15]\n",
    "df.loc[14] = ['Sai' , 97 , None]\n",
    "df.loc[15] = ['Sai' , 97 , 15]\n",
    "df.loc[16] = ['Sai' , None , 15]\n",
    "df"
   ]
  },
  {
   "cell_type": "code",
   "execution_count": null,
   "id": "12c69719-a0f1-42da-9030-eec63c5d2dd6",
   "metadata": {},
   "outputs": [],
   "source": [
    "df['remark'] = None \n",
    "df"
   ]
  }
 ],
 "metadata": {
  "kernelspec": {
   "display_name": "Python 3 (ipykernel)",
   "language": "python",
   "name": "python3"
  },
  "language_info": {
   "codemirror_mode": {
    "name": "ipython",
    "version": 3
   },
   "file_extension": ".py",
   "mimetype": "text/x-python",
   "name": "python",
   "nbconvert_exporter": "python",
   "pygments_lexer": "ipython3",
   "version": "3.12.0"
  }
 },
 "nbformat": 4,
 "nbformat_minor": 5
}
